{
  "cells": [
    {
      "cell_type": "markdown",
      "metadata": {
        "id": "view-in-github",
        "colab_type": "text"
      },
      "source": [
        "<a href=\"https://colab.research.google.com/github/pablog765/CiscoDevNet/blob/main/01_Primeros_pasos.ipynb\" target=\"_parent\"><img src=\"https://colab.research.google.com/assets/colab-badge.svg\" alt=\"Open In Colab\"/></a>"
      ]
    },
    {
      "cell_type": "markdown",
      "metadata": {
        "id": "xk30G5BXNxgK"
      },
      "source": [
        "## Primeros pasos con Python\n",
        "\n",
        "_**Workshop:** Bootcamp 4.0 --- Ingelearn_\n",
        "\n",
        "_**Instructor:** Ignacio Lavaggi_\n",
        "\n",
        "Vamos a dar nuestros primeros pasos con Python, usando ésta herramienta para programar, además de admitir anotaciones: La libreta de Jupyter."
      ]
    },
    {
      "cell_type": "markdown",
      "metadata": {
        "id": "MRA3afycNxgM"
      },
      "source": [
        "### ¡Hola, Mundo!\n",
        "\n",
        "Para mostrar cualquier cosa en la consola, o en la parte inferior, podemos usar el comando print, y entre paréntesis poner lo que queremos:\n",
        "- print(\"texto\")\n",
        "- print(variable)\n",
        "- print(f\"texto {variable}\")"
      ]
    },
    {
      "cell_type": "code",
      "source": [
        "variable = 10\n",
        "variable2 = 6\n",
        "\n",
        "print(f\"El valor de mi variable es {variable}, y el de variable2 es {variable2}\")"
      ],
      "metadata": {
        "id": "gtz36hv511QQ",
        "outputId": "38171bed-c661-4b15-b1db-d86f2a41682e",
        "colab": {
          "base_uri": "https://localhost:8080/"
        }
      },
      "execution_count": null,
      "outputs": [
        {
          "output_type": "stream",
          "name": "stdout",
          "text": [
            "El valor de mi variable es 10, y el de variable2 es 6\n"
          ]
        }
      ]
    },
    {
      "cell_type": "code",
      "execution_count": null,
      "metadata": {
        "id": "gjsCHc2ENxgN",
        "colab": {
          "base_uri": "https://localhost:8080/"
        },
        "outputId": "83b2e27d-b141-48b8-e99f-49614f07e0ec"
      },
      "outputs": [
        {
          "output_type": "stream",
          "name": "stdout",
          "text": [
            "Hola Mundo\n",
            "Hola Mundo\n",
            "Hola Mundo\n",
            "Hola Mundo\n"
          ]
        }
      ],
      "source": [
        "print(\"Hola Mundo\")\n",
        "print(\"Hola Mundo\")\n",
        "print(\"Hola Mundo\")\n",
        "print(\"Hola Mundo\")"
      ]
    },
    {
      "cell_type": "markdown",
      "metadata": {
        "id": "WtTuFmxPNxgO"
      },
      "source": [
        "Tu turno:"
      ]
    },
    {
      "cell_type": "code",
      "execution_count": null,
      "metadata": {
        "id": "zS3sM0ukNxgO",
        "colab": {
          "base_uri": "https://localhost:8080/"
        },
        "outputId": "80c4051e-7981-4257-8b54-7488e0940456"
      },
      "outputs": [
        {
          "output_type": "stream",
          "name": "stdout",
          "text": [
            "Hola desde Bootcamp\n"
          ]
        }
      ],
      "source": [
        "print(\"Hola desde Bootcamp\")"
      ]
    },
    {
      "cell_type": "markdown",
      "metadata": {
        "id": "rvGSKDOkNxgO"
      },
      "source": [
        "### Variables\n",
        "\n",
        "Las variables son \"cajones\" en donde podemos almacenar información.\n",
        "Podemos guardar textos, números, símbolos, o incluso listas o arreglos enteros de valores.\n",
        "\n",
        "Veamos la forma más simple de declarar una variable:"
      ]
    },
    {
      "cell_type": "code",
      "execution_count": null,
      "metadata": {
        "id": "t9esraEpNxgO"
      },
      "outputs": [],
      "source": [
        "miVariable = 10"
      ]
    },
    {
      "cell_type": "markdown",
      "metadata": {
        "id": "ljsPEfNrNxgP"
      },
      "source": [
        "¿Qué pasa si imprimimos miVariable?"
      ]
    },
    {
      "cell_type": "code",
      "execution_count": null,
      "metadata": {
        "id": "znQgRmKVNxgP",
        "colab": {
          "base_uri": "https://localhost:8080/"
        },
        "outputId": "894acc70-31f6-48e5-9bca-83a08ce88884"
      },
      "outputs": [
        {
          "output_type": "stream",
          "name": "stdout",
          "text": [
            "El valor de MiVariable es  10\n"
          ]
        }
      ],
      "source": [
        "# Rellena con el comando que creas conveniente, por ejemplo:\n",
        "print(\"El valor de MiVariable es \",miVariable)"
      ]
    },
    {
      "cell_type": "markdown",
      "metadata": {
        "id": "bxUeZJT_NxgP"
      },
      "source": [
        "Las variables pueden cambiar fácilmente de valor"
      ]
    },
    {
      "cell_type": "code",
      "execution_count": null,
      "metadata": {
        "id": "u6w06M8_NxgP"
      },
      "outputs": [],
      "source": [
        "miVariable = 3\n",
        "otraVariable = 7"
      ]
    },
    {
      "cell_type": "markdown",
      "metadata": {
        "id": "PdZipLQ9NxgQ"
      },
      "source": [
        "¿Qué pasa si ahora imprimimos el resultado?"
      ]
    },
    {
      "cell_type": "code",
      "execution_count": null,
      "metadata": {
        "id": "otqTiWu3NxgQ",
        "colab": {
          "base_uri": "https://localhost:8080/"
        },
        "outputId": "93a7057d-db42-48c6-ffc2-dbe4bf2479a8"
      },
      "outputs": [
        {
          "output_type": "stream",
          "name": "stdout",
          "text": [
            "7\n"
          ]
        }
      ],
      "source": [
        "# Rellena con el comando que creas conveniente, por ejemplo:\n",
        "print(otraVariable)"
      ]
    },
    {
      "cell_type": "markdown",
      "metadata": {
        "id": "mIr-b3AWNxgQ"
      },
      "source": [
        "Las variables también pueden tener \"cuentas\" asociadas."
      ]
    },
    {
      "cell_type": "code",
      "execution_count": null,
      "metadata": {
        "id": "BpFd3BCGNxgQ",
        "colab": {
          "base_uri": "https://localhost:8080/"
        },
        "outputId": "23f9e3be-83af-4fed-863b-ce981af4dd82"
      },
      "outputs": [
        {
          "output_type": "stream",
          "name": "stdout",
          "text": [
            "F(x) = 26\n"
          ]
        }
      ],
      "source": [
        "x = 5\n",
        "y = 1\n",
        "ecuacion = x**2 + y\n",
        "print(f\"F(x) = {ecuacion}\")"
      ]
    },
    {
      "cell_type": "markdown",
      "metadata": {
        "id": "jc1QmW4zNxgR"
      },
      "source": [
        "### Bibliotecas\n",
        "\n",
        "Las bibliotecas nos permiten expandir las posibilidades de lo que hace Python, lo único que debemos hacer es \"traerlas\" a nuestro programa para aprovechar sus funciones"
      ]
    },
    {
      "cell_type": "code",
      "execution_count": null,
      "metadata": {
        "id": "ir8bJktBNxgR"
      },
      "outputs": [],
      "source": [
        "import math\n",
        "# Math es una biblioteca que tiene funcionalidades bastante\n",
        "# poderosas para operaciones matemáticas"
      ]
    },
    {
      "cell_type": "code",
      "execution_count": null,
      "metadata": {
        "id": "swSxwAcHNxgR"
      },
      "outputs": [],
      "source": [
        "# Cuánto vale \"Pi\"?\n",
        "pi = math.pi"
      ]
    },
    {
      "cell_type": "markdown",
      "source": [
        "Comprobamos si es cierto..."
      ],
      "metadata": {
        "id": "i4YS_P0mQmHm"
      }
    },
    {
      "cell_type": "code",
      "source": [
        "print(pi)"
      ],
      "metadata": {
        "id": "YgqJXBZuQi41",
        "colab": {
          "base_uri": "https://localhost:8080/"
        },
        "outputId": "92a8f92b-62fa-4452-b675-22fc27cecb51"
      },
      "execution_count": null,
      "outputs": [
        {
          "output_type": "stream",
          "name": "stdout",
          "text": [
            "3.141592653589793\n"
          ]
        }
      ]
    },
    {
      "cell_type": "markdown",
      "metadata": {
        "id": "5JAb9GP2NxgR"
      },
      "source": [
        "***\n",
        "**Ejercicio:**\n",
        "Calculemos el área de un círculo!\n",
        "\n",
        "\n",
        "\n"
      ]
    },
    {
      "cell_type": "code",
      "execution_count": null,
      "metadata": {
        "id": "Ic3ZIFOZNxgS",
        "colab": {
          "base_uri": "https://localhost:8080/"
        },
        "outputId": "d9157630-07bc-42db-8309-c11cfa82980f"
      },
      "outputs": [
        {
          "output_type": "stream",
          "name": "stdout",
          "text": [
            "El área para un círculo de radio 10 cm es de 314.1592653589793 cm^2\n"
          ]
        }
      ],
      "source": [
        "radio = 10\n",
        "areaCirculo = pi * (radio **2) #rellenar con nuestra ecuación\n",
        "\n",
        "print(f\"El área para un círculo de radio {radio} cm es de {areaCirculo} cm^2\")"
      ]
    },
    {
      "cell_type": "markdown",
      "metadata": {
        "id": "VB1gM9ciNxgS"
      },
      "source": [
        "### Listas\n",
        "\n",
        "Las listas son conjuntos de valores que me permiten almacenar mucha información\n",
        "\n",
        "Se declaran parecido a una variable, pero cada elemento se separa por una coma, y todo el conjunto se encierra entre corchetes\n",
        "\n",
        "**Ejemplo:**\n",
        "miLista = [5,4,3,2,1]"
      ]
    },
    {
      "cell_type": "code",
      "execution_count": null,
      "metadata": {
        "id": "3qX0CXnQNxgS"
      },
      "outputs": [],
      "source": [
        "planetas = [\"Mercurio\",\"Venus\",\"Tierra\",\"Marte\",\"Júpiter\",\"Saturno\",\"Urano\",\"Neptuno\"]\n",
        "numeros = [2,6,7,2]"
      ]
    },
    {
      "cell_type": "markdown",
      "metadata": {
        "id": "q7q89PkvNxgS"
      },
      "source": [
        "Si quiero ver un elemento de la lista, basta con poner el número del elemento entre corchetes.\n",
        "\n",
        "**Ejemplo:**\n",
        "miLista[0]\n",
        "\n",
        "_Nota: En Python, los elementos se cuentan a partir del cero, así que cuando nos referimos a miLista[0], me trae el primer elemento (5)_"
      ]
    },
    {
      "cell_type": "code",
      "execution_count": null,
      "metadata": {
        "id": "aV3r90qNNxgS",
        "colab": {
          "base_uri": "https://localhost:8080/"
        },
        "outputId": "ff319fc4-8ccf-4a25-848d-26398ca1f273"
      },
      "outputs": [
        {
          "output_type": "stream",
          "name": "stdout",
          "text": [
            "Mercurio\n"
          ]
        }
      ],
      "source": [
        "# ¿Cuál es el segundo planeta del sistema solar?\n",
        "print(planetas[0]) #rellenar"
      ]
    },
    {
      "cell_type": "markdown",
      "metadata": {
        "id": "MD-PLr1INxgT"
      },
      "source": [
        "Python admite números negativos! Si quiero el último elemento de una lista, basta con poner miLista[-1]"
      ]
    },
    {
      "cell_type": "code",
      "execution_count": null,
      "metadata": {
        "id": "s5nKlnG1NxgT",
        "colab": {
          "base_uri": "https://localhost:8080/",
          "height": 35
        },
        "outputId": "dec83230-d04d-4e83-924a-7cffc1171a54"
      },
      "outputs": [
        {
          "output_type": "execute_result",
          "data": {
            "text/plain": [
              "'Neptuno'"
            ],
            "application/vnd.google.colaboratory.intrinsic+json": {
              "type": "string"
            }
          },
          "metadata": {},
          "execution_count": 23
        }
      ],
      "source": [
        "# ¿Cual es el último planeta del sistema solar?\n",
        "planetas[-1]"
      ]
    },
    {
      "cell_type": "markdown",
      "metadata": {
        "id": "0AKUk1FWNxgT"
      },
      "source": [
        "El comando \"append\" nos permite agregar elementos en una lista.\n"
      ]
    },
    {
      "cell_type": "code",
      "execution_count": null,
      "metadata": {
        "id": "IWnvvdt7NxgT"
      },
      "outputs": [],
      "source": [
        "planetas.append(\"Plutón\")"
      ]
    },
    {
      "cell_type": "code",
      "execution_count": null,
      "metadata": {
        "id": "RyKhIuHINxgU",
        "colab": {
          "base_uri": "https://localhost:8080/",
          "height": 35
        },
        "outputId": "23feed65-b0f1-4416-ad29-63027fad114c"
      },
      "outputs": [
        {
          "output_type": "execute_result",
          "data": {
            "text/plain": [
              "'Plutón'"
            ],
            "application/vnd.google.colaboratory.intrinsic+json": {
              "type": "string"
            }
          },
          "metadata": {},
          "execution_count": 25
        }
      ],
      "source": [
        "# ¿Cual es el último planeta del sistema solar?\n",
        "# kjaskdajsdkajsdkasd\n",
        "planetas[-1]"
      ]
    },
    {
      "cell_type": "markdown",
      "metadata": {
        "id": "bGUDuWcJNxgU"
      },
      "source": [
        "***\n",
        "**Ejercicio:**\n",
        "Ejecutemos el siguiente código. ¿Qué es lo que hace?"
      ]
    },
    {
      "cell_type": "markdown",
      "source": [],
      "metadata": {
        "id": "u3sG5LWPtPJA"
      }
    },
    {
      "cell_type": "markdown",
      "source": [],
      "metadata": {
        "id": "QPs3U3Z6tO04"
      }
    },
    {
      "cell_type": "code",
      "execution_count": null,
      "metadata": {
        "id": "PAN50Rq9NxgU",
        "colab": {
          "base_uri": "https://localhost:8080/"
        },
        "outputId": "dba1a2ed-81f9-4141-b674-8edffb864a8f"
      },
      "outputs": [
        {
          "output_type": "stream",
          "name": "stdout",
          "text": [
            "F(x) = [15626, 4097, 730, 65, 2, 1, 2, 65, 730, 4097, 117650, 262145, 531442, 1000001]\n"
          ]
        }
      ],
      "source": [
        "x = [-5,-4,-3,-2,-1,0,1,2,3,4,7,8,9,10]\n",
        "y = 1\n",
        "fx = [] #lista vacía\n",
        "\n",
        "for elemento in x:\n",
        "    fx.append(elemento**6 + y)\n",
        "\n",
        "print(f\"F(x) = {fx}\")"
      ]
    },
    {
      "cell_type": "markdown",
      "metadata": {
        "id": "leasnLp1NxgV"
      },
      "source": [
        "### Graficar con Python\n",
        "\n",
        "para graficar rápidamente con python, podemos apoyarnos en la biblioteca MatPlotLib"
      ]
    },
    {
      "cell_type": "code",
      "execution_count": null,
      "metadata": {
        "id": "zKDB70zfNxgV"
      },
      "outputs": [],
      "source": [
        "import matplotlib.pyplot as plt"
      ]
    },
    {
      "cell_type": "markdown",
      "metadata": {
        "id": "PXwc2dapNxgV"
      },
      "source": [
        "Lo único que necesitamos para graficar, es decirle qué es lo que queremos en el eje X, y en el eje Y"
      ]
    },
    {
      "cell_type": "code",
      "execution_count": null,
      "metadata": {
        "id": "QC8CjuaINxgW",
        "colab": {
          "base_uri": "https://localhost:8080/",
          "height": 462
        },
        "outputId": "e540b090-42c3-499e-b8a6-0b7dac3dfc59"
      },
      "outputs": [
        {
          "output_type": "execute_result",
          "data": {
            "text/plain": [
              "[<matplotlib.lines.Line2D at 0x7b86a35b3850>]"
            ]
          },
          "metadata": {},
          "execution_count": 37
        },
        {
          "output_type": "display_data",
          "data": {
            "text/plain": [
              "<Figure size 640x480 with 1 Axes>"
            ],
            "image/png": "[encoded data removed]"
          },
          "metadata": {}
        }
      ],
      "source": [
        "plt.plot(\n",
        "    x, # primero el eje X\n",
        "    fx, # luego el eje Y\n",
        "    )"
      ]
    },
    {
      "cell_type": "markdown",
      "metadata": {
        "id": "XWj2rTy9NxgW"
      },
      "source": [
        "Podemos darle estilos y colores con style.use\n",
        "\n",
        "Aquí hay una lista de estilos:\n",
        "https://matplotlib.org/stable/gallery/style_sheets/style_sheets_reference.html"
      ]
    },
    {
      "cell_type": "code",
      "execution_count": null,
      "metadata": {
        "id": "WYx0Xl-gNxgW",
        "colab": {
          "base_uri": "https://localhost:8080/",
          "height": 462
        },
        "outputId": "178d09f1-59de-4e74-d208-43ab6d3774d4"
      },
      "outputs": [
        {
          "output_type": "execute_result",
          "data": {
            "text/plain": [
              "[<matplotlib.lines.Line2D at 0x7b86a35c0250>]"
            ]
          },
          "metadata": {},
          "execution_count": 38
        },
        {
          "output_type": "display_data",
          "data": {
            "text/plain": [
              "<Figure size 640x480 with 1 Axes>"
            ],
            "image/png": "[encoded data removed]"
          },
          "metadata": {}
        }
      ],
      "source": [
        "plt.style.use(\"ggplot\")\n",
        "plt.plot(\n",
        "    x, # primero el eje X\n",
        "    fx, # luego el eje Y\n",
        "    )"
      ]
    }
  ],
  "metadata": {
    "kernelspec": {
      "display_name": "Python 3",
      "name": "python3"
    },
    "language_info": {
      "name": "python"
    },
    "orig_nbformat": 4,
    "colab": {
      "provenance": [],
      "include_colab_link": true
    }
  },
  "nbformat": 4,
  "nbformat_minor": 0
}